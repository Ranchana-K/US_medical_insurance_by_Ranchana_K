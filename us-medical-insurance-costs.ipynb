{
 "cells": [
  {
   "cell_type": "markdown",
   "metadata": {},
   "source": [
    "# U.S. Medical Insurance Costs\n",
    "\n",
    "This project's purpose is to analyze data about medical insurance costs from a CSV file using Python fundamentals. Given insurance.csv, some attributes were studied to find potential features of the patients information in the file and reported as results."
   ]
  },
  {
   "cell_type": "markdown",
   "metadata": {},
   "source": [
    "### Importing data from a csv file\n",
    "Looking into **insurance.csv** file, it involves 7 columns as following:\n",
    "* age\n",
    "* sex \n",
    "* bmi\n",
    "* children\n",
    "* smoker\n",
    "* region\n",
    "* charges\n",
    "\n",
    "<br>Thus, import csv and create empty lists for each attribute."
   ]
  },
  {
   "cell_type": "code",
   "execution_count": 1,
   "metadata": {},
   "outputs": [],
   "source": [
    "# import csv module\n",
    "import csv\n",
    "# create attributes lists\n",
    "ages = []\n",
    "sexes = []\n",
    "bmis = []\n",
    "num_of_children = []\n",
    "smoker_statuses = []\n",
    "regions = []\n",
    "charges = []"
   ]
  },
  {
   "cell_type": "markdown",
   "metadata": {},
   "source": [
    "### Create a function to open a csv file and iterate through rows to assign values to variables"
   ]
  },
  {
   "cell_type": "code",
   "execution_count": 2,
   "metadata": {},
   "outputs": [],
   "source": [
    "# function to help download a certain column data to an assigned list\n",
    "def load_data(lst_name, file_name, column):\n",
    "    with open(file_name) as csv_file:\n",
    "        csv_data = csv.DictReader(csv_file)\n",
    "        for row in csv_data:\n",
    "            lst_name.append(row[column])\n",
    "    return lst_name\n",
    "      "
   ]
  },
  {
   "cell_type": "code",
   "execution_count": 3,
   "metadata": {},
   "outputs": [],
   "source": [
    "#download all data in each column\n",
    "load_data(ages, 'insurance.csv', 'age')\n",
    "load_data(sexes, 'insurance.csv', 'sex')\n",
    "load_data(bmis, 'insurance.csv', 'bmi')\n",
    "load_data(num_of_children, 'insurance.csv', 'children')\n",
    "load_data(smoker_statuses, 'insurance.csv', 'smoker')\n",
    "load_data(regions, 'insurance.csv', 'region')\n",
    "load_data(charges,'insurance.csv', 'charges')"
   ]
  },
  {
   "cell_type": "markdown",
   "metadata": {},
   "source": [
    "After storing data from insurance.csv file into data lists, I set the aspects of data that I was interested in. The following is a list of questions that I chose to investigate.\n",
    "  * Total number of patients\n",
    "  * Average age, Maximum age, and Minimum age of patients\n",
    "  * Proportion of male and female patients\n",
    "  * Population of patients categorized by age groups and sex\n",
    "  * The relationship between age groups and charges\n",
    "  * Proportion of patients who has no child and patients who has at least a child\n",
    "  * The relationship between number of children and charges\n",
    "\n",
    "\n",
    "<br>For more convenience, I imported decimal module to make it easier to show results in 2 decimal places."
   ]
  },
  {
   "cell_type": "code",
   "execution_count": 4,
   "metadata": {},
   "outputs": [],
   "source": [
    "from decimal import Decimal"
   ]
  },
  {
   "cell_type": "markdown",
   "metadata": {},
   "source": [
    "## Total number of patients"
   ]
  },
  {
   "cell_type": "code",
   "execution_count": 23,
   "metadata": {},
   "outputs": [
    {
     "name": "stdout",
     "output_type": "stream",
     "text": [
      "Total number of patients is 1338 people.\n"
     ]
    }
   ],
   "source": [
    "#find total number of patients by finding length of dataset\n",
    "#set a variable called grand_total_patients \n",
    "grand_total_patients = len(ages)\n",
    "print(\"Total number of patients is \" + str(grand_total_patients) + \" people.\")"
   ]
  },
  {
   "cell_type": "markdown",
   "metadata": {},
   "source": [
    "## Find average, maximum, and minimum age of patients "
   ]
  },
  {
   "cell_type": "code",
   "execution_count": 5,
   "metadata": {},
   "outputs": [
    {
     "name": "stdout",
     "output_type": "stream",
     "text": [
      "Average age: 39.21\n",
      "Maximum age: 64\n",
      "Minimum age: 18\n"
     ]
    }
   ],
   "source": [
    "#create a function to calculate average age by taking an ages list as a parameter\n",
    "def analyze_age(ages_list):\n",
    "    #set total_age equals to 0\n",
    "    total_age = 0\n",
    "    #iterate through each age value in the list and add up the value to total_age\n",
    "    for age in ages_list:\n",
    "        total_age += int(age)\n",
    "    return \"Average age: \" + str(round(Decimal(total_age/len(ages_list)),2)) + \"\\n\" +\"Maximum age: \" + str(max(ages_list)) + \"\\n\" + \"Minimum age: \" + str(min(ages_list)) \n",
    "\n",
    "\n",
    "#run the function cal_avg_age \n",
    "print(analyze_age(ages))"
   ]
  },
  {
   "cell_type": "markdown",
   "metadata": {},
   "source": [
    "## Find the proportion of female and male patients"
   ]
  },
  {
   "cell_type": "code",
   "execution_count": 6,
   "metadata": {},
   "outputs": [
    {
     "name": "stdout",
     "output_type": "stream",
     "text": [
      "49.48% of patients are female. (662 people)\n",
      "50.52% of patients are male. (676 people)\n"
     ]
    }
   ],
   "source": [
    "#create a function to analyze proportion of female and male patients by taking a sexes list as a parameter)\n",
    "def cal_sex_proportion(sexes_list):\n",
    "    #create counter variables and set them to 0\n",
    "    count_female = 0\n",
    "    count_male = 0\n",
    "    #find the number of patients in the list\n",
    "    number_of_patients = len(sexes_list)\n",
    "    #iterate through the list to count the number of female and male patients\n",
    "    for sex in sexes_list:\n",
    "        if sex == 'female':\n",
    "            count_female += 1\n",
    "        else:\n",
    "            count_male += 1\n",
    "    #calculate percentage of each sex compared to all patients\n",
    "    female_percent = Decimal(count_female / number_of_patients * 100)\n",
    "    male_percent = Decimal(count_male / number_of_patients * 100)\n",
    "    return str(round(female_percent,2)) + \"% of patients are female. (\" + str(count_female) + \" people)\" + \"\\n\" + str(round(male_percent,2)) + \"% of patients are male. (\" + str(count_male) + \" people)\"\n",
    "\n",
    "#run the function cal_sex_proportion\n",
    "print(cal_sex_proportion(sexes))"
   ]
  },
  {
   "cell_type": "markdown",
   "metadata": {},
   "source": [
    "## Population of patients categorized by age groups and sex\n",
    "First of all, patients' ages are categorized by age ranges as follows. \n",
    " * +70 years old\n",
    " * 60-69 years old\n",
    " * 50-59 years old\n",
    " * 40-49 years old\n",
    " * 30-39 years old\n",
    " * 20-29 years old\n",
    " * 10-19 years old\n",
    " * 0-9 years old \n",
    "\n",
    "<br>To make data more interesting, the result will be illustrated by a population pyramid bar chart. Therefore, the dataset needed to be prepared again, using pandas and seaborn. A new dataframe includes 3 columns : *'Age_Group', 'Male', and 'Female'* which <font color = 'red'>'Male' column has </font> <font color = 'blue'>**minus** </font><font color = red> values in order to plot bars in opposite of 'Female' bars on an x-axis.</font>"
   ]
  },
  {
   "cell_type": "code",
   "execution_count": 8,
   "metadata": {},
   "outputs": [],
   "source": [
    "#import pandas and seaborn libraries\n",
    "import pandas as pd\n",
    "import seaborn as sns"
   ]
  },
  {
   "cell_type": "code",
   "execution_count": 9,
   "metadata": {},
   "outputs": [],
   "source": [
    "#create a function to create a new dataframe by taking a csv file as a parameter\n",
    "def label_age_group(csv_file):\n",
    "    #create a dataframe to store age and sex values for plotting\n",
    "    new_df = pd.DataFrame({'Age_Group' : ['70+', '60-69', '50-59', '40-49', '30-39', '20-29', '10-19', '0-9'],\n",
    "                 'Male' : [0, 0, 0, 0, 0, 0, 0, 0],\n",
    "                 'Female' : [0, 0, 0, 0, 0, 0, 0, 0]})\n",
    "    #read csv file with pandas\n",
    "    pd_df = pd.read_csv(csv_file)\n",
    "    #count the number of patients seperated by age groups and sex\n",
    "    #to count 'Male' - using  '-='\n",
    "    #to count 'Female' - using '+='\n",
    "    for i, row in pd_df.iterrows():\n",
    "        if pd_df.loc[i, \"age\"] >= 70:\n",
    "            if pd_df.loc[i, \"sex\"] == 'male':\n",
    "                new_df.loc[new_df.Age_Group == \"70+\", 'Male'] -= 1\n",
    "            else:\n",
    "                new_df.loc[new_df.Age_Group == \"70+\", 'Female'] += 1\n",
    "        elif pd_df.loc[i, \"age\"] >= 60 and pd_df.loc[i, \"age\"] <= 69 :\n",
    "            if pd_df.loc[i, \"sex\"] == 'male':\n",
    "                new_df.loc[new_df.Age_Group == \"60-69\", 'Male'] -= 1\n",
    "            else:\n",
    "                new_df.loc[new_df.Age_Group == \"60-69\", 'Female'] += 1\n",
    "        elif pd_df.loc[i, \"age\"] >= 50 and pd_df.loc[i, \"age\"] <= 59 :\n",
    "            if pd_df.loc[i, \"sex\"] == 'male':\n",
    "                new_df.loc[new_df.Age_Group == \"50-59\", 'Male'] -= 1\n",
    "            else:\n",
    "                new_df.loc[new_df.Age_Group == \"50-59\", 'Female'] += 1\n",
    "        elif pd_df.loc[i, \"age\"] >= 40 and pd_df.loc[i, \"age\"] <= 49 :\n",
    "            if pd_df.loc[i, \"sex\"] == 'male':\n",
    "                new_df.loc[new_df.Age_Group == \"40-49\", 'Male'] -= 1\n",
    "            else:\n",
    "                new_df.loc[new_df.Age_Group == \"40-49\", 'Female'] += 1\n",
    "        elif pd_df.loc[i, \"age\"] >= 30 and pd_df.loc[i, \"age\"] <= 39 :\n",
    "            if pd_df.loc[i, \"sex\"] == 'male':\n",
    "                new_df.loc[new_df.Age_Group == \"30-39\", 'Male'] -= 1\n",
    "            else:\n",
    "                new_df.loc[new_df.Age_Group == \"30-39\", 'Female'] += 1\n",
    "        elif pd_df.loc[i, \"age\"] >= 20 and pd_df.loc[i, \"age\"] <= 29 :\n",
    "            if pd_df.loc[i, \"sex\"] == 'male':\n",
    "                new_df.loc[new_df.Age_Group == \"20-29\", 'Male'] -= 1\n",
    "            else:\n",
    "                new_df.loc[new_df.Age_Group == \"20-29\", 'Female'] += 1\n",
    "        elif pd_df.loc[i, \"age\"] >= 10 and pd_df.loc[i, \"age\"] <= 19 :\n",
    "            if pd_df.loc[i, \"sex\"] == 'male':\n",
    "                new_df.loc[new_df.Age_Group == \"10-19\", 'Male'] -= 1\n",
    "            else:\n",
    "                new_df.loc[new_df.Age_Group == \"10-19\", 'Female'] += 1\n",
    "        else:\n",
    "            if pd_df.loc[i, \"sex\"] == 'male':\n",
    "                new_df.loc[new_df.Age_Group == \"0-9\", 'Male'] -= 1\n",
    "            else:\n",
    "                new_df.loc[new_df.Age_Group == \"0-9\", 'Female'] += 1\n",
    "    return new_df"
   ]
  },
  {
   "cell_type": "code",
   "execution_count": 10,
   "metadata": {},
   "outputs": [
    {
     "data": {
      "text/html": [
       "<div>\n",
       "<style scoped>\n",
       "    .dataframe tbody tr th:only-of-type {\n",
       "        vertical-align: middle;\n",
       "    }\n",
       "\n",
       "    .dataframe tbody tr th {\n",
       "        vertical-align: top;\n",
       "    }\n",
       "\n",
       "    .dataframe thead th {\n",
       "        text-align: right;\n",
       "    }\n",
       "</style>\n",
       "<table border=\"1\" class=\"dataframe\">\n",
       "  <thead>\n",
       "    <tr style=\"text-align: right;\">\n",
       "      <th></th>\n",
       "      <th>Age_Group</th>\n",
       "      <th>Male</th>\n",
       "      <th>Female</th>\n",
       "    </tr>\n",
       "  </thead>\n",
       "  <tbody>\n",
       "    <tr>\n",
       "      <th>0</th>\n",
       "      <td>70+</td>\n",
       "      <td>0</td>\n",
       "      <td>0</td>\n",
       "    </tr>\n",
       "    <tr>\n",
       "      <th>1</th>\n",
       "      <td>60-69</td>\n",
       "      <td>-56</td>\n",
       "      <td>58</td>\n",
       "    </tr>\n",
       "    <tr>\n",
       "      <th>2</th>\n",
       "      <td>50-59</td>\n",
       "      <td>-134</td>\n",
       "      <td>137</td>\n",
       "    </tr>\n",
       "    <tr>\n",
       "      <th>3</th>\n",
       "      <td>40-49</td>\n",
       "      <td>-140</td>\n",
       "      <td>139</td>\n",
       "    </tr>\n",
       "    <tr>\n",
       "      <th>4</th>\n",
       "      <td>30-39</td>\n",
       "      <td>-130</td>\n",
       "      <td>127</td>\n",
       "    </tr>\n",
       "    <tr>\n",
       "      <th>5</th>\n",
       "      <td>20-29</td>\n",
       "      <td>-145</td>\n",
       "      <td>135</td>\n",
       "    </tr>\n",
       "    <tr>\n",
       "      <th>6</th>\n",
       "      <td>10-19</td>\n",
       "      <td>-71</td>\n",
       "      <td>66</td>\n",
       "    </tr>\n",
       "    <tr>\n",
       "      <th>7</th>\n",
       "      <td>0-9</td>\n",
       "      <td>0</td>\n",
       "      <td>0</td>\n",
       "    </tr>\n",
       "  </tbody>\n",
       "</table>\n",
       "</div>"
      ],
      "text/plain": [
       "  Age_Group  Male  Female\n",
       "0       70+     0       0\n",
       "1     60-69   -56      58\n",
       "2     50-59  -134     137\n",
       "3     40-49  -140     139\n",
       "4     30-39  -130     127\n",
       "5     20-29  -145     135\n",
       "6     10-19   -71      66\n",
       "7       0-9     0       0"
      ]
     },
     "execution_count": 10,
     "metadata": {},
     "output_type": "execute_result"
    }
   ],
   "source": [
    "#create a new variable called cat_by_age_sex which stores a new dataframe\n",
    "cat_by_age_sex = label_age_group(\"insurance.csv\")\n",
    "cat_by_age_sex"
   ]
  },
  {
   "cell_type": "code",
   "execution_count": 11,
   "metadata": {},
   "outputs": [],
   "source": [
    "#create the function that plots the population pyramid graph by taking a new dataframe as a parameter\n",
    "def patients_by_age_group_sex_chart(dataframe):\n",
    "    age_class = ['70+', '60-69', '50-59', '40-49', '30-39', '20-29', '10-19', '0-9']\n",
    "    bar_plot = sns.barplot(x = 'Male', y = 'Age_Group', data = dataframe, order = age_class, palette='Blues', lw= 0)\n",
    "    bar_plot = sns.barplot(x = 'Female', y = 'Age_Group', data = dataframe, order = age_class, palette='RdPu', lw = 0)\n",
    "    bar_plot.set(xlabel = \"The Number of Patients (people)\", ylabel = \"Age Group\", title = \"Patients Categorized by Age Group and Sex\")\n"
   ]
  },
  {
   "cell_type": "code",
   "execution_count": 12,
   "metadata": {},
   "outputs": [
    {
     "data": {
      "image/png": "[encoded data removed]",
      "text/plain": [
       "<Figure size 432x288 with 1 Axes>"
      ]
     },
     "metadata": {
      "needs_background": "light"
     },
     "output_type": "display_data"
    }
   ],
   "source": [
    "#plot the population of patients categorized by age groups and sex\n",
    "patients_by_age_group_sex_chart(cat_by_age_sex)"
   ]
  },
  {
   "cell_type": "markdown",
   "metadata": {},
   "source": [
    "## The Relationship Between Age Groups and Charges \n",
    "After grouping patients by age, the average charges for each age group were calculated to detemine how charges are related to age groups.\n",
    " \n",
    "<br>Remarks: Even if there is no 0-9 year old patients and +70 year old patients, the age groups still involve both age ranges in case there is more data collected."
   ]
  },
  {
   "cell_type": "code",
   "execution_count": 13,
   "metadata": {},
   "outputs": [],
   "source": [
    "#create a function to calculate average charges for each age groups\n",
    "def avg_charges_by_age(ages, charges, age_group_df):\n",
    "    #set total charge for each age group equal to 0\n",
    "    total_charges_70up = 0\n",
    "    total_charges_6069 = 0\n",
    "    total_charges_5059 = 0\n",
    "    total_charges_4049 = 0\n",
    "    total_charges_3039 = 0\n",
    "    total_charges_2029 = 0\n",
    "    total_charges_1019 = 0\n",
    "    total_charges_0009 = 0\n",
    "    #from the dataframe of patients categorized by age and sex, calculate the total number of patients for each age group\n",
    "    #by adding the column 'Total_patients' = - num of 'Male' patients + num of 'Female' patients\n",
    "    age_group_df.loc[age_group_df.Age_Group == \"70+\", 'Total_patients']  = - age_group_df.loc[age_group_df.Age_Group == \"70+\", 'Male'] + age_group_df.loc[age_group_df.Age_Group == \"70+\", 'Female']\n",
    "    age_group_df.loc[age_group_df.Age_Group == \"60-69\", 'Total_patients']  = - age_group_df.loc[age_group_df.Age_Group == \"60-69\", 'Male'] + age_group_df.loc[age_group_df.Age_Group == \"60-69\", 'Female']\n",
    "    age_group_df.loc[age_group_df.Age_Group == \"50-59\", 'Total_patients']  = - age_group_df.loc[age_group_df.Age_Group == \"50-59\", 'Male'] + age_group_df.loc[age_group_df.Age_Group == \"50-59\", 'Female']\n",
    "    age_group_df.loc[age_group_df.Age_Group == \"40-49\", 'Total_patients']  = - age_group_df.loc[age_group_df.Age_Group == \"40-49\", 'Male'] + age_group_df.loc[age_group_df.Age_Group == \"40-49\", 'Female']\n",
    "    age_group_df.loc[age_group_df.Age_Group == \"30-39\", 'Total_patients']  = - age_group_df.loc[age_group_df.Age_Group == \"30-39\", 'Male'] + age_group_df.loc[age_group_df.Age_Group == \"30-39\", 'Female']\n",
    "    age_group_df.loc[age_group_df.Age_Group == \"20-29\", 'Total_patients']  = - age_group_df.loc[age_group_df.Age_Group == \"20-29\", 'Male'] + age_group_df.loc[age_group_df.Age_Group == \"20-29\", 'Female']\n",
    "    age_group_df.loc[age_group_df.Age_Group == \"10-19\", 'Total_patients']  = - age_group_df.loc[age_group_df.Age_Group == \"10-19\", 'Male'] + age_group_df.loc[age_group_df.Age_Group == \"10-19\", 'Female']\n",
    "    age_group_df.loc[age_group_df.Age_Group == \"0-9\", 'Total_patients']  = - age_group_df.loc[age_group_df.Age_Group == \"0-9\", 'Male'] + age_group_df.loc[age_group_df.Age_Group == \"0-9\", 'Female']\n",
    "    #set index = 0 \n",
    "    i = 0\n",
    "    #iterate throught ages and charges lists\n",
    "    #sum up the charges for each age group\n",
    "    for i in range(len(ages)):\n",
    "        if int(ages[i]) > 70:\n",
    "            total_charges_70up += float(charges[i])\n",
    "            i = i+1\n",
    "        elif int(ages[i]) >= 60 and int(ages[i]) <= 69:\n",
    "            total_charges_6069 += float(charges[i])\n",
    "            i = i +1\n",
    "        elif int(ages[i]) >= 50 and int(ages[i]) <= 59:\n",
    "            total_charges_5059 += float(charges[i])\n",
    "            i = i+1\n",
    "        elif int(ages[i]) >= 40 and int(ages[i]) <= 49:\n",
    "            total_charges_4049 += float(charges[i])\n",
    "            i = i+1\n",
    "        elif int(ages[i]) >= 30 and int(ages[i]) <= 39:\n",
    "            total_charges_3039 += float(charges[i])\n",
    "            i = i+1\n",
    "        elif int(ages[i]) >= 20 and int(ages[i]) <= 29:\n",
    "            total_charges_2029 += float(charges[i])\n",
    "            i = i+1\n",
    "        elif int(ages[i]) >= 10 and int(ages[i]) <= 19:\n",
    "            total_charges_1019 += float(charges[i])\n",
    "            i = i+1\n",
    "        else:\n",
    "            total_charges_0009 += float(charges[i])\n",
    "            i = i+1\n",
    "    #calculate average charges for each age group by dividing total charges with total number of patients\n",
    "    #then store the value in the new column 'Average_charges'\n",
    "    age_group_df.loc[age_group_df.Age_Group == \"70+\", \"Average_charges\"] = total_charges_70up / age_group_df.loc[age_group_df.Age_Group == \"70+\", 'Total_patients']\n",
    "    age_group_df.loc[age_group_df.Age_Group == \"60-69\", \"Average_charges\"] = total_charges_6069 / age_group_df.loc[age_group_df.Age_Group == \"60-69\", 'Total_patients']\n",
    "    age_group_df.loc[age_group_df.Age_Group == \"50-59\", \"Average_charges\"] = total_charges_5059 / age_group_df.loc[age_group_df.Age_Group == \"50-59\", 'Total_patients']\n",
    "    age_group_df.loc[age_group_df.Age_Group == \"40-49\", \"Average_charges\"] = total_charges_4049 / age_group_df.loc[age_group_df.Age_Group == \"40-49\", 'Total_patients']\n",
    "    age_group_df.loc[age_group_df.Age_Group == \"30-39\", \"Average_charges\"] = total_charges_3039 / age_group_df.loc[age_group_df.Age_Group == \"30-39\", 'Total_patients']\n",
    "    age_group_df.loc[age_group_df.Age_Group == \"20-29\", \"Average_charges\"] = total_charges_2029 / age_group_df.loc[age_group_df.Age_Group == \"20-29\", 'Total_patients']\n",
    "    age_group_df.loc[age_group_df.Age_Group == \"10-19\", \"Average_charges\"] = total_charges_1019 / age_group_df.loc[age_group_df.Age_Group == \"10-19\", 'Total_patients']\n",
    "    age_group_df.loc[age_group_df.Age_Group == \"0-9\", \"Average_charges\"] = total_charges_0009 / age_group_df.loc[age_group_df.Age_Group == \"0-9\", 'Total_patients']\n",
    "    \n",
    "    return age_group_df"
   ]
  },
  {
   "cell_type": "code",
   "execution_count": 14,
   "metadata": {},
   "outputs": [
    {
     "data": {
      "text/html": [
       "<div>\n",
       "<style scoped>\n",
       "    .dataframe tbody tr th:only-of-type {\n",
       "        vertical-align: middle;\n",
       "    }\n",
       "\n",
       "    .dataframe tbody tr th {\n",
       "        vertical-align: top;\n",
       "    }\n",
       "\n",
       "    .dataframe thead th {\n",
       "        text-align: right;\n",
       "    }\n",
       "</style>\n",
       "<table border=\"1\" class=\"dataframe\">\n",
       "  <thead>\n",
       "    <tr style=\"text-align: right;\">\n",
       "      <th></th>\n",
       "      <th>Age_Group</th>\n",
       "      <th>Male</th>\n",
       "      <th>Female</th>\n",
       "      <th>Total_patients</th>\n",
       "      <th>Average_charges</th>\n",
       "    </tr>\n",
       "  </thead>\n",
       "  <tbody>\n",
       "    <tr>\n",
       "      <th>0</th>\n",
       "      <td>70+</td>\n",
       "      <td>0</td>\n",
       "      <td>0</td>\n",
       "      <td>0.0</td>\n",
       "      <td>NaN</td>\n",
       "    </tr>\n",
       "    <tr>\n",
       "      <th>1</th>\n",
       "      <td>60-69</td>\n",
       "      <td>-56</td>\n",
       "      <td>58</td>\n",
       "      <td>114.0</td>\n",
       "      <td>21248.021885</td>\n",
       "    </tr>\n",
       "    <tr>\n",
       "      <th>2</th>\n",
       "      <td>50-59</td>\n",
       "      <td>-134</td>\n",
       "      <td>137</td>\n",
       "      <td>271.0</td>\n",
       "      <td>16495.232665</td>\n",
       "    </tr>\n",
       "    <tr>\n",
       "      <th>3</th>\n",
       "      <td>40-49</td>\n",
       "      <td>-140</td>\n",
       "      <td>139</td>\n",
       "      <td>279.0</td>\n",
       "      <td>14399.203564</td>\n",
       "    </tr>\n",
       "    <tr>\n",
       "      <th>4</th>\n",
       "      <td>30-39</td>\n",
       "      <td>-130</td>\n",
       "      <td>127</td>\n",
       "      <td>257.0</td>\n",
       "      <td>11738.784117</td>\n",
       "    </tr>\n",
       "    <tr>\n",
       "      <th>5</th>\n",
       "      <td>20-29</td>\n",
       "      <td>-145</td>\n",
       "      <td>135</td>\n",
       "      <td>280.0</td>\n",
       "      <td>9561.751018</td>\n",
       "    </tr>\n",
       "    <tr>\n",
       "      <th>6</th>\n",
       "      <td>10-19</td>\n",
       "      <td>-71</td>\n",
       "      <td>66</td>\n",
       "      <td>137.0</td>\n",
       "      <td>8407.349242</td>\n",
       "    </tr>\n",
       "    <tr>\n",
       "      <th>7</th>\n",
       "      <td>0-9</td>\n",
       "      <td>0</td>\n",
       "      <td>0</td>\n",
       "      <td>0.0</td>\n",
       "      <td>NaN</td>\n",
       "    </tr>\n",
       "  </tbody>\n",
       "</table>\n",
       "</div>"
      ],
      "text/plain": [
       "  Age_Group  Male  Female  Total_patients  Average_charges\n",
       "0       70+     0       0             0.0              NaN\n",
       "1     60-69   -56      58           114.0     21248.021885\n",
       "2     50-59  -134     137           271.0     16495.232665\n",
       "3     40-49  -140     139           279.0     14399.203564\n",
       "4     30-39  -130     127           257.0     11738.784117\n",
       "5     20-29  -145     135           280.0      9561.751018\n",
       "6     10-19   -71      66           137.0      8407.349242\n",
       "7       0-9     0       0             0.0              NaN"
      ]
     },
     "execution_count": 14,
     "metadata": {},
     "output_type": "execute_result"
    }
   ],
   "source": [
    "avg_charges_by_age(ages, charges, cat_by_age_sex)"
   ]
  },
  {
   "cell_type": "markdown",
   "metadata": {},
   "source": [
    "## Find the proportion of patients who 'has no child' VS 'has at least a child'"
   ]
  },
  {
   "cell_type": "code",
   "execution_count": 7,
   "metadata": {},
   "outputs": [
    {
     "name": "stdout",
     "output_type": "stream",
     "text": [
      "42.90% of patients has no child. (574 people)\n",
      "57.10% of patients has at least a child. (764 people)\n"
     ]
    }
   ],
   "source": [
    "def no_child_proportion(children_list):\n",
    "    #create counter variables and set them to 0\n",
    "    count_no_child = 0\n",
    "    count_has_child = 0\n",
    "    #find the number of patients in the list\n",
    "    number_of_patients = len(children_list)\n",
    "    #iterate through the list to count the number of patients who has no child and has at least a child.\n",
    "    for children in children_list:\n",
    "        if int(children) == 0:\n",
    "            count_no_child += 1\n",
    "        else:\n",
    "            count_has_child += 1\n",
    "    #calculate percentage of each category to all patients\n",
    "    no_child_percent = Decimal(count_no_child / number_of_patients * 100)\n",
    "    has_child_percent = Decimal(count_has_child / number_of_patients * 100)\n",
    "    return str(round(no_child_percent,2)) + \"% of patients has no child. (\" + str(count_no_child) + \" people)\" + \"\\n\" + str(round(has_child_percent,2)) + \"% of patients has at least a child. (\" + str(count_has_child) + \" people)\"\n",
    "\n",
    "#run the function no_child_proportion\n",
    "print(no_child_proportion(num_of_children))"
   ]
  },
  {
   "cell_type": "markdown",
   "metadata": {},
   "source": [
    "## The Relationship Between Number of Children and Charges \n",
    "In order to investigate more about relationship between number of children and charges, the features of num_of_children was explored to find out what is the maximum number of children that patients have and how many patients there are for the certain number of children."
   ]
  },
  {
   "cell_type": "code",
   "execution_count": 15,
   "metadata": {},
   "outputs": [
    {
     "name": "stdout",
     "output_type": "stream",
     "text": [
      "5\n"
     ]
    }
   ],
   "source": [
    "#find the maximum  number of children\n",
    "print(max(num_of_children))"
   ]
  },
  {
   "cell_type": "code",
   "execution_count": 24,
   "metadata": {},
   "outputs": [
    {
     "name": "stdout",
     "output_type": "stream",
     "text": [
      "No child:  574\n",
      "One child:  324\n",
      "Two children:  240\n",
      "Three children:  157\n",
      "More than three Children:  43\n"
     ]
    }
   ],
   "source": [
    "#find the number of  patients grouped by the certain number of children they have\n",
    "#set total number for each group equal to 0\n",
    "total_children_0 = 0\n",
    "total_children_1 = 0\n",
    "total_children_2 = 0\n",
    "total_children_3 = 0\n",
    "total_children_more_than_3 = 0\n",
    "for num in num_of_children:\n",
    "    if int(num) == 0:\n",
    "        total_children_0 += 1\n",
    "    elif  int(num) == 1:\n",
    "        total_children_1 +=1\n",
    "    elif  int(num) == 2:\n",
    "        total_children_2 += 1\n",
    "    elif  int(num) == 3:\n",
    "        total_children_3 += 1\n",
    "    else:\n",
    "        total_children_more_than_3 +=1\n",
    "print(\"No child: \" , str(total_children_0))\n",
    "print(\"One child: \", str(total_children_1))\n",
    "print(\"Two children: \", str(total_children_2))\n",
    "print(\"Three children: \", str(total_children_3))\n",
    "print(\"More than three Children: \", str(total_children_more_than_3))"
   ]
  },
  {
   "cell_type": "code",
   "execution_count": 17,
   "metadata": {},
   "outputs": [],
   "source": [
    "#create a function that takes num_of_children and charges lists as parameters\n",
    "def avg_chg_by_children(children_list, charges_list):\n",
    "    #create a dictionary which has num_of_children as keys and the values are sub-dictionaries which store\n",
    "    #num_of_patients, total_charges, and avg_charges for each num_of_children\n",
    "    pat_by_children = {'0' : {\"num_of_patients\" : 0, \"total_charges\" : 0, \"avg_charges\" : 0},\n",
    "                                '1' : {\"num_of_patients\" : 0, \"total_charges\" : 0, \"avg_charges\" : 0},\n",
    "                                '2' : {\"num_of_patients\" : 0, \"total_charges\" : 0, \"avg_charges\" : 0},\n",
    "                                '3' : {\"num_of_patients\" : 0, \"total_charges\" : 0, \"avg_charges\" : 0},\n",
    "                                '>3' : {\"num_of_patients\" : 0, \"total_charges\" : 0, \"avg_charges\" : 0}}\n",
    "    i = 0\n",
    "    #iterate through children_list and charges_list\n",
    "    for i in range(len(children_list)):\n",
    "        #check the children_list's value then count num_of_patients and add charges'_list's value to \"total_charges\" according to num_of_children\n",
    "        if children_list[i] == '0':\n",
    "            pat_by_children['0'][\"num_of_patients\"] += 1\n",
    "            pat_by_children['0'][\"total_charges\"] += float(charges_list[i])\n",
    "            i = i + 1\n",
    "        elif children_list[i] == '1':\n",
    "            pat_by_children['1'][\"num_of_patients\"] += 1\n",
    "            pat_by_children['1'][\"total_charges\"] += float(charges_list[i])\n",
    "            i = i + 1\n",
    "        elif children_list[i] == '2':\n",
    "            pat_by_children['2'][\"num_of_patients\"] += 1\n",
    "            pat_by_children['2'][\"total_charges\"] += float(charges_list[i])\n",
    "            i = i + 1\n",
    "        elif children_list[i] == '3':\n",
    "            pat_by_children['3'][\"num_of_patients\"] += 1\n",
    "            pat_by_children['3'][\"total_charges\"] += float(charges_list[i])\n",
    "            i = i + 1\n",
    "        else:\n",
    "            pat_by_children['>3'][\"num_of_patients\"] += 1\n",
    "            pat_by_children['>3'][\"total_charges\"] += float(charges_list[i])\n",
    "            i = i + 1\n",
    "    pat_by_children['0'][\"avg_charges\"] = round((pat_by_children['0'][\"total_charges\"] / pat_by_children['0'][\"num_of_patients\"]),2)\n",
    "    pat_by_children['1'][\"avg_charges\"] = round((pat_by_children['1'][\"total_charges\"] / pat_by_children['1'][\"num_of_patients\"]),2)\n",
    "    pat_by_children['2'][\"avg_charges\"] = round((pat_by_children['2'][\"total_charges\"] / pat_by_children['2'][\"num_of_patients\"]),2)\n",
    "    pat_by_children['3'][\"avg_charges\"] = round((pat_by_children['3'][\"total_charges\"] / pat_by_children['3'][\"num_of_patients\"]),2)\n",
    "    pat_by_children['>3'][\"avg_charges\"] = round((pat_by_children['>3'][\"total_charges\"] / pat_by_children['>3'][\"num_of_patients\"]),2)\n",
    "    return pat_by_children"
   ]
  },
  {
   "cell_type": "code",
   "execution_count": 18,
   "metadata": {},
   "outputs": [
    {
     "data": {
      "text/plain": [
       "{'0': {'num_of_patients': 574,\n",
       "  'total_charges': 7098069.995338997,\n",
       "  'avg_charges': 12365.98},\n",
       " '1': {'num_of_patients': 324,\n",
       "  'total_charges': 4124899.673449997,\n",
       "  'avg_charges': 12731.17},\n",
       " '2': {'num_of_patients': 240,\n",
       "  'total_charges': 3617655.296149999,\n",
       "  'avg_charges': 15073.56},\n",
       " '3': {'num_of_patients': 157,\n",
       "  'total_charges': 2410784.983589999,\n",
       "  'avg_charges': 15355.32},\n",
       " '>3': {'num_of_patients': 43,\n",
       "  'total_charges': 504415.04222999985,\n",
       "  'avg_charges': 11730.58}}"
      ]
     },
     "execution_count": 18,
     "metadata": {},
     "output_type": "execute_result"
    }
   ],
   "source": [
    "#run the previous function to calculate total charges and average charges categorized by number of children then store in a variable\n",
    "avg_charges_compared_by_children = avg_chg_by_children(num_of_children, charges)\n",
    "avg_charges_compared_by_children"
   ]
  },
  {
   "cell_type": "code",
   "execution_count": 19,
   "metadata": {},
   "outputs": [],
   "source": [
    "def inform_chg_by_children(pat_by_children_dict):\n",
    "    return print(\"Average charges for patients who have no child: \" + str(pat_by_children_dict['0']['avg_charges']) + \"\\n\" +\n",
    "                 \"Average charges for patients who have 1 child: \" + str(pat_by_children_dict['1']['avg_charges']) + \"\\n\" +\n",
    "                 \"Average charges for patients who have 2 children: \" + str(pat_by_children_dict['2']['avg_charges']) + \"\\n\" +\n",
    "                 \"Average charges for patients who have 3 children: \" + str(pat_by_children_dict['3']['avg_charges']) + \"\\n\"  +\n",
    "                 \"Average charges for patients who have more than 3 children: \" + str(pat_by_children_dict['>3']['avg_charges']))"
   ]
  },
  {
   "cell_type": "code",
   "execution_count": 20,
   "metadata": {},
   "outputs": [
    {
     "name": "stdout",
     "output_type": "stream",
     "text": [
      "Average charges for patients who have no child: 12365.98\n",
      "Average charges for patients who have 1 child: 12731.17\n",
      "Average charges for patients who have 2 children: 15073.56\n",
      "Average charges for patients who have 3 children: 15355.32\n",
      "Average charges for patients who have more than 3 children: 11730.58\n"
     ]
    }
   ],
   "source": [
    "inform_chg_by_children(avg_charges_compared_by_children)"
   ]
  },
  {
   "cell_type": "markdown",
   "metadata": {},
   "source": [
    "## To summarize, \n",
    "* Total number of patients was 1338 people\n",
    "* Insight about patients' age\n",
    "    * Average age was 39.21 years old\n",
    "    * Maximum age was 64 years old\n",
    "    * Minimum age was 18 years old\n",
    "* Female and male patients had almost the same proportion (49.48% and 50.52% respectively)\n",
    "* Population of patients categorized by age groups and sex\n",
    "    * Majorities were the age group between 20-59 year old and each age group shared almost the same number of both female and male patients.\n",
    "    * Minorities were the age group '10-19 year old' and '60-69 year old.\n",
    "* The relationship between age groups and charges\n",
    "    * The insurance charges got higher along with patients' age.\n",
    "* Proportion of patients who had no child and patients who had at least a child\n",
    "    * There was little difference in number between these two groups.\n",
    "* The relationship between the number of children and charges\n",
    "    * **Interestingly,** insurance charges did not largely differ between patients who have no child and one child. \n",
    "    * However, the cost got higher when patients have 2 children which was almost the same as ones who had 3 children.\n",
    "    * Somehow, patients who had more than 3 children had **less charges** than other groups so that it is necessary to investigate more for the reason.\n",
    "       "
   ]
  },
  {
   "cell_type": "code",
   "execution_count": null,
   "metadata": {},
   "outputs": [],
   "source": []
  }
 ],
 "metadata": {
  "kernelspec": {
   "display_name": "Python 3",
   "language": "python",
   "name": "python3"
  },
  "language_info": {
   "codemirror_mode": {
    "name": "ipython",
    "version": 3
   },
   "file_extension": ".py",
   "mimetype": "text/x-python",
   "name": "python",
   "nbconvert_exporter": "python",
   "pygments_lexer": "ipython3",
   "version": "3.8.3"
  }
 },
 "nbformat": 4,
 "nbformat_minor": 4
}
